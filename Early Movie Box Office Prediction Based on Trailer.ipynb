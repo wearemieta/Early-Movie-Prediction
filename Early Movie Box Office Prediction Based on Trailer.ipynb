{
 "cells": [
  {
   "cell_type": "markdown",
   "metadata": {},
   "source": [
    "# Early Movie Box Office Prediction by YouTube Trailer\n",
    "\n",
    "According to Szolnoki et al, \"Use of socially generated “big data” to access information about collective states of the minds in human societies has become a new paradigm in the emerging field of computational social science. A natural application of this would be the prediction of the society's reaction to a new product in the sense of popularity and adoption rate. However, bridging the gap between “real time monitoring” and “early predicting” remains a big challenge.\" Szolnoki et al put forward an unique way to predict the box office of the movie by the viewing and editing records on Wikipedia, the well-known online encyclopedia.\n",
    "\n",
    "Their approach reminds us that movie companies release trailers to the market before the movie release date for people's review. There should be high correlations between popularity and box office. Why should we use trailers to predict the result? \n",
    "\n",
    "This project aims to use office trailers watching records on youtube, the most famous American video website, to predict domestic box office of the openning week."
   ]
  },
  {
   "cell_type": "markdown",
   "metadata": {},
   "source": [
    "## Table of Content\n",
    "We will cover the following topics in this project:\n",
    "\n",
    "- Installing the libraries\n",
    "- Data Scraping\n",
    "- Feature Selection\n",
    "- Multivariate Linear Model for Box Office Prediction"
   ]
  },
  {
   "cell_type": "markdown",
   "metadata": {},
   "source": [
    "## Installing the libraries\n",
    "\n",
    "Before getting started, you'll need to install a python library supporting google api in order to retrieve data from Google YouTube Trailer data.\n",
    "\n",
    "    $ pip install --upgrade google-api-python-client\n",
    "    \n",
    "Also, before calling api, you need to generate a api key from google YouTube Data API v3 and create a $client_secrets.json$ file with the api key. There are two types of key in Google Api: Api Key and Oauth 2.0 Credential. In this project, we use Api Key. Here is a detailed instruction on how to create a Api Key:\n",
    "\n",
    "    https://developers.google.com/youtube/registering_an_application\n",
    "    \n",
    "After you run all the installs, make sure the following commands work for you:"
   ]
  },
  {
   "cell_type": "code",
   "execution_count": 1,
   "metadata": {
    "collapsed": false,
    "scrolled": true
   },
   "outputs": [],
   "source": [
    "import io\n",
    "import json\n",
    "import numpy as np\n",
    "from googleapiclient.discovery import build\n",
    "import requests\n",
    "import json\n",
    "import datetime\n",
    "from bs4 import BeautifulSoup\n",
    "import time\n",
    "import re\n",
    "import string\n",
    "import nltk\n",
    "\n",
    "%matplotlib inline\n",
    "import matplotlib.pyplot as plt"
   ]
  },
  {
   "cell_type": "markdown",
   "metadata": {},
   "source": [
    "## Data Scraping"
   ]
  },
  {
   "cell_type": "markdown",
   "metadata": {},
   "source": [
    "Now, you have loaded the library. It's time to scrap data online. In order to make the prediction of future movie box office, we need to acquire data of previous movies, train these data with model and make the prediction.\n",
    "    \n",
    "In this project, we use data of 2015 movies as training data"
   ]
  },
  {
   "cell_type": "code",
   "execution_count": 2,
   "metadata": {
    "collapsed": false
   },
   "outputs": [],
   "source": [
    "def retrieve_html(url):\n",
    "    \"\"\"\n",
    "    Return the raw HTML at the specified URL. If the request fails, process will sleep for 1 seconds and try it again\n",
    "\n",
    "    Args:\n",
    "        url (string): \n",
    "\n",
    "    Returns:\n",
    "        status_code (integer):\n",
    "        raw_html (string): the raw HTML content of the response, properly encoded according to the HTTP headers.\n",
    "    \"\"\"\n",
    "    response = None\n",
    "    while response == None:\n",
    "        try:\n",
    "            response = requests.get(url)\n",
    "        except:\n",
    "            time.sleep(1)\n",
    "    return response.status_code, response.content\n",
    "    pass"
   ]
  },
  {
   "cell_type": "markdown",
   "metadata": {},
   "source": [
    "First, we need to get all the movie from 2015. Here we use boxofficemojo.com as our data source. Since there is no API supported by BoxOfficeMojo, we use HTTP request to get HTML and parse the HTML and return a list of movies released on 2015. Due to the limitation of YouTube API used later, we only get the Top 100 movies sorted by domestic grosses.\n",
    "The HTML of the website is not well formatted. Most HTML elements do not have a unique identification. In order to parse these data, we hard code in index number of the element. Accord to BoxOfficeMojoAPI [1], an unofficial Api that is deprecated right now, Box Office Mojo's site format changes daily, causing inconsistent data scraping from this API. We saved the data scraped in a file just in case the site format changes when the project runs later:\n",
    "    \n",
    "    box_office_2015.txt\n",
    "\n",
    "Here is the url we use to scrape the data:\n",
    "    \n",
    "    http://www.boxofficemojo.com/yearly/chart/?yr=2015"
   ]
  },
  {
   "cell_type": "code",
   "execution_count": 4,
   "metadata": {
    "collapsed": false
   },
   "outputs": [],
   "source": [
    "# Movie 2015 top 100\n",
    "boxoffice_mojo_base_url = 'http://www.boxofficemojo.com'\n",
    "\n",
    "def retrieve_moive_yearly(year, num = 100):\n",
    "    \"\"\"\n",
    "    Return a list of top num movies in a specific years\n",
    "\n",
    "    Args:\n",
    "        year (int):\n",
    "        num (int): number of movie to load\n",
    "        \n",
    "    Returns:\n",
    "        movies (list<dict>): A list of movies with their related information\n",
    "        \n",
    "    \"\"\"\n",
    "    _, html_doc = retrieve_html(boxoffice_mojo_base_url + '/yearly/chart/?yr=' + str(year))\n",
    "    \n",
    "    movies = []\n",
    "    \n",
    "    soup = BeautifulSoup(html_doc, 'html.parser')\n",
    "    for m in soup.select('table')[6].select('tr')[2:2+num]:\n",
    "        movie = {}\n",
    "        movie['name'] = m.select('td')[1].select('a')[0].text\n",
    "        movie_d = retrive_movie_box_office(m.select('td')[1].select('a')[0]['href'], movie['name'])\n",
    "        if movie_d['budget'] == 0:\n",
    "            continue\n",
    "        movie.update(movie_d)\n",
    "        movies.append(movie)\n",
    "    return movies\n",
    "    pass"
   ]
  },
  {
   "cell_type": "markdown",
   "metadata": {},
   "source": [
    "After getting a list of movies, we need to get the detailed information of each movie including budget, release date and first-week box office. In this page, it has most information we need:\n",
    "\n",
    "    http://www.boxofficemojo.com/movies/?page=weekly&id=starwars7.htm\n",
    "    \n",
    "The most difficult part is movie budget. As we know, the budget is not a known public number, the data is sometimes missing. For example, a movie called Daddy's Home does not have budget information on boxofficemojo. Although Wikipedia has the information of budget for most movies, the reason why we didn't use Wikipedia is it is hard to find corresponding Wikipedia for a specific Movie. For example, here are two movies without budget information on BoxOfficeMojo.com:\n",
    "    \n",
    "    Daddy's Home: https://en.wikipedia.org/wiki/Daddy's_Home_(film)\n",
    "    The Woman in Black 2 Angel of Death: https://en.wikipedia.org/wiki/The_Woman_in_Black:_Angel_of_Death\n",
    "    \n",
    "The url pattern differs from film to film. In order to get the budget information, we use another source called THE NUMBERS  [2]. The website has the budget information of all the movies in their database on one page. Here is the URL:\n",
    "\n",
    "    http://www.the-numbers.com/movie/budgets/all\n",
    "    \n",
    "In order to make sure the movie name can match between BoxOfficeMojo.com and the-numbers.com, we remove the all the punctuations and spaces, then compare between the name between these two sites. Even by doing a backup budget search, some movies still do not have budget information. For example A Walk in the Woods. We decide to exclude these data from the set."
   ]
  },
  {
   "cell_type": "code",
   "execution_count": 5,
   "metadata": {
    "collapsed": true
   },
   "outputs": [],
   "source": [
    "def retrive_movie_box_office(movie_url, name = \"\"):\n",
    "    \"\"\"\n",
    "    Return the budget and first week box office of a movie\n",
    "\n",
    "    Args:\n",
    "        movie_url (string): the movie url of BoxOfficeMojo.com\n",
    "        name (string): the name of the movie\n",
    "        \n",
    "    Returns:\n",
    "        movie (dict): A dictionary of budget and box office information\n",
    "        \n",
    "    \"\"\"\n",
    "        \n",
    "    movie = {}\n",
    "    _, html_doc = retrieve_html(boxoffice_mojo_base_url + movie_url)\n",
    "    soup = BeautifulSoup(html_doc, 'html.parser')\n",
    "    for table in soup.select('table'):\n",
    "        if len(table.select('tr')) == 4:\n",
    "            for tr in table.select('tr'):\n",
    "                if 'Production Budget: ' in tr.text:\n",
    "                    budget = tr.select('td')[1].text.replace('Production Budget: $','')\n",
    "                    if 'million' in budget:\n",
    "                        movie['budget'] = float(budget.replace('million','').strip()) * 1e6\n",
    "                    elif 'thousand' in budget:\n",
    "                        movie['budget'] = float(budget.replace('thousand','').strip()) * 1e3\n",
    "                    elif 'billion' in budget:\n",
    "                        movie['budget'] = float(budget.replace('billion','').strip()) * 1e9\n",
    "                    else:\n",
    "                        movie['budget'] = get_budget(name)\n",
    "                    break\n",
    "                if 'Release Date: ' in tr.text:\n",
    "                    release = tr.select('td')[1].select('a')[0].text\n",
    "                    movie['release'] = datetime.datetime.strptime(release, '%B %d, %Y')\n",
    "    \n",
    "    _, html_doc = retrieve_html(boxoffice_mojo_base_url + movie_url + '&page=weekly')\n",
    "    soup = BeautifulSoup(html_doc, 'html.parser')\n",
    "    for tr in soup.select('tr'):\n",
    "        if len(tr.select('td')) == 9:\n",
    "            if tr.select('td')[-1].text == '1':\n",
    "                movie['boxoffice'] = int(tr.select('td')[2].text.replace('$','').replace(',',''))\n",
    "                movie['theaters'] = int(tr.select('td')[4].text.replace(',',''))\n",
    "    movie['name'] = name\n",
    "    return movie\n",
    "\n",
    "def get_budget(movie_name):\n",
    "    \"\"\"\n",
    "    Search budget information of a movie\n",
    "\n",
    "    Args:\n",
    "        movie_name (string)\n",
    "        \n",
    "    Returns:\n",
    "        budget (int): The budget of a movie, 0 if not found\n",
    "        \n",
    "    \"\"\"\n",
    "    \n",
    "    movie_name = re.sub('\\W', '', movie_name)\n",
    "    _, html_doc = retrieve_html('http://www.the-numbers.com/movie/budgets/all')\n",
    "    soup = BeautifulSoup(html_doc, 'html.parser')\n",
    "    tds = soup.select('div#page_filling_chart td')\n",
    "    find = False\n",
    "    for i, td in enumerate(tds):\n",
    "        if find:\n",
    "            return int(td.text.replace('$','').replace(',',''))\n",
    "        if movie_name in re.sub('\\W', '', td.text):\n",
    "            find = True\n",
    "    return 0"
   ]
  },
  {
   "cell_type": "markdown",
   "metadata": {},
   "source": [
    "The sample shows the budget information we get from the-numbers.com. The process is a little bit slow since the HTML element in this site is a little bit large and not well-formated (most tr tag does not have a close tag with it which causing the slow performance of BeautifulSoup)."
   ]
  },
  {
   "cell_type": "code",
   "execution_count": 7,
   "metadata": {
    "collapsed": false,
    "scrolled": true
   },
   "outputs": [
    {
     "data": {
      "text/plain": [
       "50000000"
      ]
     },
     "execution_count": 7,
     "metadata": {},
     "output_type": "execute_result"
    }
   ],
   "source": [
    "get_budget('Daddy’s Home')"
   ]
  },
  {
   "cell_type": "code",
   "execution_count": 6,
   "metadata": {
    "collapsed": false
   },
   "outputs": [
    {
     "data": {
      "text/plain": [
       "{'boxoffice': 213317902,\n",
       " 'budget': 200000000,\n",
       " 'name': 'Finding Dory',\n",
       " 'release': datetime.datetime(2016, 6, 17, 0, 0),\n",
       " 'theaters': 4305}"
      ]
     },
     "execution_count": 6,
     "metadata": {},
     "output_type": "execute_result"
    }
   ],
   "source": [
    "retrive_movie_box_office('/movies/?id=pixar2015.htm', 'Finding Dory')"
   ]
  },
  {
   "cell_type": "markdown",
   "metadata": {},
   "source": [
    "Now, we will retrieve a 2015 movie list. Each item is a dictionary with corresponding movie information."
   ]
  },
  {
   "cell_type": "code",
   "execution_count": 8,
   "metadata": {
    "collapsed": false
   },
   "outputs": [
    {
     "name": "stdout",
     "output_type": "stream",
     "text": [
      "{'theaters': 4134, 'name': u'Star Wars: The Force Awakens', 'release': datetime.datetime(2015, 12, 18, 0, 0), 'budget': 245000000.0, 'boxoffice': 390856054}\n"
     ]
    }
   ],
   "source": [
    "movie_list = retrieve_moive_yearly(2015)\n",
    "print movie_list[0]"
   ]
  },
  {
   "cell_type": "markdown",
   "metadata": {},
   "source": [
    "After getting the movie list, we need to find the corresponding trailer on YouTube. We search the right trailer based on search result sorted by view count from YouTube. Here is the strategy of finding the right trailer:\n",
    "\n",
    "The following table shows a list of films with their trailers' names on YouTube:\n",
    "\n",
    "| Movie Name                            | Trailer Name                                                                    |\n",
    "|---------------------------------------|---------------------------------------------------------------------------------|\n",
    "| Avengers: Age of Ultron               | Marvel's \"Avengers: Age of Ultron\" - Teaser Trailer (OFFICIAL)                  |\n",
    "| The Hunger Games: Mockingjay - Part 2 | The Hunger Games: Mockingjay Part 2 Official Trailer – “We March Together”      |\n",
    "| The Hunger Games: Mockingjay - Part 1 | The Hunger Games: Mockingjay - Part 1 Official Trailer #1 (2014) - THG Movie HD |\n",
    "\n",
    "You will find out that the official trailer of a movie does not have an obvious specific pattern. Also, sometimes the most viewed video on YouTube with the keyword combination of the name of movie and \"trailer\" is not the trailer itself (Unless the movie is really famous). For example, here is a search result of \"Inside Out Trailer\" (the video on top has the highest view count):\n",
    "\n",
    "| \"Inside Out Trailer\" search result                                        |\n",
    "|---------------------------------------------------------------------------|\n",
    "| 'INSIDE OUT' Makeup Tutorial (Disgust,Sadness,Joy,Anger & Fear)           |\n",
    "| Disgust & Anger - Disney's INSIDE OUT Movie Clip                          |\n",
    "| Inside Out - ALL Clips (Sneak Peek)                                       |\n",
    "| Inside Out2 Parody - Movie Trailer (2017)                                 |\n",
    "| INSIDE OUT - “We are not eating that” Clip (2015) Pixar Animated Movie HD |\n",
    "| Inside Out - Riley Without Emotions                                       |\n",
    "| Inside Out Extended Clip                                                  |\n",
    "| Inside Out Trailer 2 UK - Official Disney Pixar  HD                       |\n",
    "\n",
    "After analyzing all the movies in our list, We found out the name of a movie trailer has the following patterns:\n",
    "- It only contains the word of the movies and the type of the trailer before \"Trailer\" word in most situations.\n",
    "- There are usually four types of the trailer: Final, Teaser, Official and Announcement. There are also some other types of trailer, for example, Comic-Con Trailer. However, the most viewed trailer are of the above types.\n",
    "- If it has other keywords before \"Trailer\", it is usually the movie maker's name. For example, the trailer of \"Avengers\" has its movie maker \"Marvel\" at the beginning\n",
    "- Most additional information of a trailer is behind \"Trailer\" word\n",
    "- The published date of a movie trailer is usually between the released date and one year before the release date. This prevents finding the wrong trailer of a series movies\n",
    "\n",
    "Based on these patterns, we came up with a list of keywords containing the most frequent keywords of a movie trailer. Here is the process of comparing between the name of a trailer and a movie:\n",
    "1. Replace all the non-letter word with whitespace of a movie name and tokenize it and concatenate with keyword list (set 1)\n",
    "2. Replace all the non-letter word with whitespace of a trailer name, tokenize all the words before \"Trailer\" if it exists (set 2)\n",
    "3. Find all the word in set 2 not in set 1\n",
    "4. If the result contains at least one word, it is not the correct trailer\n",
    "\n",
    "The reason we allow 0 tolerance between movie name and trailer name is to prevent the names of two movies with only one word difference"
   ]
  },
  {
   "cell_type": "code",
   "execution_count": 10,
   "metadata": {
    "collapsed": false
   },
   "outputs": [],
   "source": [
    "CLIENT_SECRETS_FILE = \"client_secrets.json\"\n",
    "YOUTUBE_API_SERVICE_NAME = \"youtube\"\n",
    "YOUTUBE_API_VERSION = \"v3\"\n",
    "\n",
    "def load_client():\n",
    "    \"\"\"\n",
    "    Load Google API client with client key\n",
    "\n",
    "    Returns:\n",
    "        client (object): The Google API client\n",
    "        \n",
    "    \"\"\"\n",
    "    with io.open(CLIENT_SECRETS_FILE) as cred:\n",
    "        YOUTUBE_API_KEY = cred.readline().strip()\n",
    "\n",
    "    return build(YOUTUBE_API_SERVICE_NAME, YOUTUBE_API_VERSION, developerKey=YOUTUBE_API_KEY)"
   ]
  },
  {
   "cell_type": "markdown",
   "metadata": {},
   "source": [
    "Here is the API reference we use to get a list of videos:\n",
    "\n",
    "    https://developers.google.com/youtube/v3/docs/search/list"
   ]
  },
  {
   "cell_type": "code",
   "execution_count": 11,
   "metadata": {
    "collapsed": false,
    "scrolled": true
   },
   "outputs": [],
   "source": [
    "def youtube_search(query, release_date, max_results = 20):\n",
    "    \"\"\"\n",
    "    Search the top-viewed trailer of a movie\n",
    "\n",
    "    Args:\n",
    "        query (string): the name of the movie\n",
    "        release_date (datetime): the date of movie release date\n",
    "        max_results (int): maximum of result returned from google api\n",
    "        \n",
    "    Returns:\n",
    "        movies (list<dict>): A list of trailers for the movie\n",
    "        \n",
    "    \"\"\"\n",
    "    \n",
    "    search_response = youtube.search().list(\n",
    "        q=query + ' trailer',\n",
    "        part=\"id,snippet\",\n",
    "        maxResults=max_results,\n",
    "        order=\"viewCount\" ,\n",
    "        publishedBefore= release_date.strftime('%Y-%m-%dT00:00:00Z'),\n",
    "        publishedAfter= (release_date + datetime.timedelta(days = 365)).strftime('%Y-%m-%dT00:00:00Z')\n",
    "    ).execute()\n",
    "\n",
    "    videos = []\n",
    "    channel_title = ''\n",
    "\n",
    "    for search_result in search_response.get(\"items\", []):\n",
    "#         print search_result[\"snippet\"][\"title\"]\n",
    "        if search_result[\"id\"][\"kind\"] == \"youtube#video\" and is_trailer(query, search_result[\"snippet\"][\"title\"]):\n",
    "            video = {}\n",
    "            video['id'] = search_result[\"id\"][\"videoId\"]\n",
    "            video['title'] = search_result[\"snippet\"][\"title\"]\n",
    "            video['publish_at'] = search_result[\"snippet\"][\"publishedAt\"]\n",
    "            videos.append(video)\n",
    "            break\n",
    "    return videos\n",
    "\n",
    "def is_trailer(movie_name, video_name):\n",
    "    \"\"\"\n",
    "    Compare the movie name and video name to tell whether the video is the trailer of this movie\n",
    "\n",
    "    Args:\n",
    "        movie_name (string)\n",
    "        video_name (string)\n",
    "        \n",
    "    Returns:\n",
    "        is_trailer (bool): Whether this video is the trailer of this movie\n",
    "        \n",
    "    \"\"\"\n",
    "    regex = re.compile('[^a-zA-Z]')\n",
    "    trailer_keywords = ['trailer', 'hd', 'official', 'teaser', 'announcement', 'final', \n",
    "                        'marvel', 's', 'us', 'disney', 'pixar', 'movie']\n",
    "\n",
    "    index = video_name.lower().find('trailer')\n",
    "    \n",
    "    video_name = video_name if index == -1 else video_name[:index]\n",
    "    video_tokens = nltk.word_tokenize(regex.sub(' ', video_name.lower()))\n",
    "    \n",
    "    movie_tokens = nltk.word_tokenize(regex.sub(' ', movie_name.lower()))\n",
    "    \n",
    "    if (len(set(video_tokens) - set(movie_tokens + trailer_keywords)) > 0):\n",
    "        return False\n",
    "    else:\n",
    "        return True"
   ]
  },
  {
   "cell_type": "code",
   "execution_count": 12,
   "metadata": {
    "collapsed": false,
    "scrolled": false
   },
   "outputs": [
    {
     "name": "stdout",
     "output_type": "stream",
     "text": [
      "True\n",
      "True\n",
      "False\n"
     ]
    }
   ],
   "source": [
    "print is_trailer('Rogue One: A Star Wars Story', 'Rogue One: A Star Wars Story Trailer #2 (Official)')\n",
    "print is_trailer('The Hunger Games: Mockingjay Part - 2', 'The Hunger Games: Mockingjay Part 2 Official Trailer – “We March Together”')\n",
    "print is_trailer('Sisters', 'Sisters Location Trailer')"
   ]
  },
  {
   "cell_type": "code",
   "execution_count": 13,
   "metadata": {
    "collapsed": false,
    "scrolled": true
   },
   "outputs": [
    {
     "data": {
      "text/plain": [
       "[{'id': u'_MC3XuMvsDI',\n",
       "  'publish_at': u'2014-12-10T17:00:22.000Z',\n",
       "  'title': u'Inside Out Trailer 2 UK - Official Disney Pixar | HD'}]"
      ]
     },
     "execution_count": 13,
     "metadata": {},
     "output_type": "execute_result"
    }
   ],
   "source": [
    "youtube = load_client()\n",
    "youtube_search('Inside out', datetime.datetime(2015,12,17))"
   ]
  },
  {
   "cell_type": "code",
   "execution_count": 14,
   "metadata": {
    "collapsed": true
   },
   "outputs": [],
   "source": [
    "def load_trailers(movies):\n",
    "    \"\"\"\n",
    "    Load the trailers of all the movies\n",
    "\n",
    "    Args:\n",
    "        movies (list<dict>)\n",
    "        \n",
    "    Returns:\n",
    "        trailers (list<dict>): List of trailers with their information\n",
    "        \n",
    "    \"\"\"\n",
    "    return [youtube_search(movie['name'], movie['release'])[0] for movie in movies]"
   ]
  },
  {
   "cell_type": "code",
   "execution_count": 15,
   "metadata": {
    "collapsed": true
   },
   "outputs": [],
   "source": [
    "trailers = load_trailers(movie_list)"
   ]
  },
  {
   "cell_type": "markdown",
   "metadata": {},
   "source": [
    "After reviewing all the result retrieved based on the above strategy, we find that the results are surprising accurate. We can find corresponding trailer for all the movies in our list. The following part shows the trailers of first five movies."
   ]
  },
  {
   "cell_type": "code",
   "execution_count": 88,
   "metadata": {
    "collapsed": false
   },
   "outputs": [
    {
     "name": "stdout",
     "output_type": "stream",
     "text": [
      "Star Wars: The Force Awakens\n",
      "Star Wars: The Force Awakens Trailer (Official)\n",
      "===================\n",
      "Jurassic World\n",
      "Jurassic World - Official Trailer (HD)\n",
      "===================\n",
      "Avengers: Age of Ultron\n",
      "Marvel's \"Avengers: Age of Ultron\" - Teaser Trailer (OFFICIAL)\n",
      "===================\n"
     ]
    }
   ],
   "source": [
    "for i in range(3):\n",
    "    print movie_list[i]['name']\n",
    "    print trailers[i]['title']\n",
    "    print '==================='"
   ]
  },
  {
   "cell_type": "markdown",
   "metadata": {},
   "source": [
    "Now it's time to get the video information based on video id. Due to the limitation of YouTube API, only channel owner can view the history data of a channel, we decide to use another API provided by a third party: ChannelMeter [3]. It is a RESTful API that user can query history YouTube data based on searching criteria. Here is the base url:\n",
    "\n",
    "    https://api.channelmeter.com/v3/youtube/query\n",
    "    \n",
    "** IMPORTANT: The trail version of this API is only 15 days, we will stop using this API after December 25th, 2016. If anyone uses this API after this date, we are not responsible for any consequence. **\n",
    "    \n",
    "The following table shows a detailed information about this API. Until now, there is no official documentation associated with this API.\n",
    "    \n",
    "| Field   | Description                                                                                                                    | Value                                                                       |\n",
    "|---------|--------------------------------------------------------------------------------------------------------------------------------|-----------------------------------------------------------------------------|\n",
    "| id      | The type of the resource and its id. Potential types are Channel and Video                                                     | video:videoid                                                               |\n",
    "| start   | The start date of data                                                                                                         | 2015-06-25                                                                  |\n",
    "| end     | The end date of data                                                                                                           | 2015-06-26                                                                  |\n",
    "| group   | The group of data returned by API                                                                                              | Day, Week, Month, Channel/Video,  Category, Duration, Day of Week, % Growth |\n",
    "| measure | Whether the data is cumulative or periodic. The default value is periodic                                                      | cumulative                                                                  |\n",
    "| metric  | The metrics of return data. If you want to retrieve different metrics,  create a metrics equation for each one and join with & | views, comments, likes, dislikes,  ratings, uploads, subscribes             |"
   ]
  },
  {
   "cell_type": "markdown",
   "metadata": {},
   "source": [
    "This API returns a JSON result. All the video-related data is stored in *data* field. Here is a sample request with its result: \n",
    "\n",
    "**Request**\n",
    "\n",
    "[https://api.channelmeter.com/v3/youtube/query?id=video:sGbxmsDFVnE&metric=views&start=2016-11-11&end=2016-11-12&group=day&measure=cumulative](https://api.channelmeter.com/v3/youtube/query?id=video:sGbxmsDFVnE&metric=views&start=2016-11-11&end=2016-11-12&group=day&measure=cumulative)\n",
    "\n",
    "\n",
    "**Response**\n",
    "```json\n",
    "    {\n",
    "        \"data\": [[[1478851200],[95355363]],[[1478937600],[95368175]]],\n",
    "        \"groups\": [\"day\"],\n",
    "        \"metrics\":[\"views\"],\n",
    "        \"names\":[\"Star Wars: The Force Awakens Trailer (Official)\"]\n",
    "     }\n",
    "```\n",
    "The *data* field is a list. Each item is a date and the data of the video for that date. The *date* is the total seconds from 1970/1/1. For example 1478851200 is the total seconds from 1970/1/1 to 2016/11/11. After running the API for different videos and different dates, we found out that the data is **incomplete**. Some videos do not have any data associated with it. Also, some videos do not have data on a specific date. We ignore the movie with no data but keep the movie with missing data on some days."
   ]
  },
  {
   "cell_type": "code",
   "execution_count": 17,
   "metadata": {
    "collapsed": false
   },
   "outputs": [],
   "source": [
    "def youtube_trailer_data(video_id, start, end, metrics='views'):\n",
    "    \"\"\"\n",
    "    Load trailer statistics information\n",
    "\n",
    "    Args:\n",
    "        video_id (string)\n",
    "        start (datetime): the start date of statistics information\n",
    "        end (datetime): the end date of statistics information\n",
    "        metrics (string): the metrics of statistics information, each metrics is separated by comma\n",
    "        \n",
    "    Returns:\n",
    "        trailers (numpy.array): list on information for each date\n",
    "        \n",
    "    \"\"\"\n",
    "    result = []\n",
    "    ms = '&'.join(['metric=' + m for m in metrics.split(',')])\n",
    "    query = 'https://api.channelmeter.com/v3/youtube/query?'\n",
    "    query += 'id=video:{0}&start={1}&end={2}&{3}&group=day&measure=cumulative'.format(\n",
    "                video_id, start.strftime(\"%Y-%m-%d\"), end.strftime(\"%Y-%m-%d\"), ms)\n",
    "    response = json.loads(retrieve_html(query)[1])\n",
    "    if 'error' not in response:\n",
    "        try:\n",
    "            result = np.array(response['data'])\n",
    "        except:\n",
    "            return result\n",
    "    else:\n",
    "        print response\n",
    "    return result"
   ]
  },
  {
   "cell_type": "code",
   "execution_count": 20,
   "metadata": {
    "collapsed": false,
    "scrolled": false
   },
   "outputs": [
    {
     "name": "stdout",
     "output_type": "stream",
     "text": [
      "[[1433833200] [62546160, 55320]]\n"
     ]
    }
   ],
   "source": [
    "data = youtube_trailer_data('RFinNxS5KN4', datetime.datetime(2015,5,11), datetime.datetime(2015,6,11), 'views,comments')\n",
    "print data[0]"
   ]
  },
  {
   "cell_type": "markdown",
   "metadata": {},
   "source": [
    "Now let's combine everything together."
   ]
  },
  {
   "cell_type": "code",
   "execution_count": 21,
   "metadata": {
    "collapsed": true
   },
   "outputs": [],
   "source": [
    "def load_one_day_movie_data(trailers, movies, time_interval = 1):\n",
    "    \"\"\"\n",
    "    Load one day statistic information of all the trailer\n",
    "\n",
    "    Args:\n",
    "        trailers (list<dict>)\n",
    "        movies (list<dict>)\n",
    "        time_interval (int): number of day before the release date\n",
    "        \n",
    "    Returns:\n",
    "        data (list): list on statistic information for all the movies\n",
    "        box_office (list): list of first week box office information\n",
    "        name (list): list of movie name\n",
    "        \n",
    "    \"\"\"\n",
    "    data, box_office, name = [], [], []\n",
    "    \n",
    "    for i, movie in enumerate(movies):\n",
    "        movie_data = youtube_trailer_data(trailers[i]['id'], \n",
    "                                        movie['release'] - datetime.timedelta(days = time_interval), \n",
    "                                        movie['release'] - datetime.timedelta(days = time_interval), \n",
    "                                        'views,comments,likes,dislikes,ratings')\n",
    "        if len(movie_data) == 0:\n",
    "            continue\n",
    "        else:\n",
    "            movie_data = movie_data[:,1].flatten()[0]\n",
    "        movie_data.append(movie['budget'])\n",
    "        movie_data.append(movie['theaters'])\n",
    "        data.append(movie_data)\n",
    "        box_office.append(movie['boxoffice'])\n",
    "        name.append(movie['name'])\n",
    "    return data, box_office, name"
   ]
  },
  {
   "cell_type": "code",
   "execution_count": 24,
   "metadata": {
    "collapsed": true
   },
   "outputs": [],
   "source": [
    "def load_100_day_movie_data(trailers, movies):\n",
    "    \"\"\"\n",
    "    Load 100 days statistic information of all the trailer\n",
    "\n",
    "    Args:\n",
    "        trailers (list<dict>)\n",
    "        movies (list<dict>)\n",
    "        \n",
    "    Returns:\n",
    "        data (ndarray): list on statistic information for all the movies\n",
    "        box_office (list): list of first week box office information\n",
    "        \n",
    "    \"\"\"\n",
    "    interval = 100\n",
    "    box_office = np.zeros((100))\n",
    "    yt_data = np.zeros((interval, 100, 5))\n",
    "    for movie_i, movie in enumerate(movies):\n",
    "        start =  movie['release'] - datetime.timedelta(days = interval)\n",
    "        movie_data = youtube_trailer_data(trailers[movie_i]['id'],\n",
    "                                        start,\n",
    "                                        start + datetime.timedelta(days = interval-1),\n",
    "                                        'views,comments,likes,dislikes,ratings')\n",
    "        if len(movie_data) == 0:\n",
    "            continue\n",
    "        for data in movie_data:\n",
    "            day = (datetime.datetime(1970, 1, 1) + datetime.timedelta(seconds = long(data[0][0])) - start).days\n",
    "            yt_data[day][movie_i] = np.array(data[1])\n",
    "        box_office[movie_i] = movie['boxoffice']\n",
    "    return np.array(yt_data), np.array(box_office)"
   ]
  },
  {
   "cell_type": "markdown",
   "metadata": {},
   "source": [
    "## Feature Selection\n",
    "\n",
    "From our perspective, more people are interested in the trailer implies more box office of the movie.\n",
    "In order to predict domestic box office, we selected five time-varying variables of official trailers from youtube.\n",
    "- The number of the people watch the trailer\n",
    "- The number of comments under the trailer\n",
    "- The number of likes of the trailer\n",
    "- The number of dislikes of the trailer\n",
    "- The rating of the trailer\n",
    "\n",
    "\n",
    "In addition, we believe the number of theater play the movie and movie budget are related to the box office at some extent. So, we use the following two constants as features.\n",
    "- The number of the theaters play this film in the opening week\n",
    "- The budget of the film\n",
    "\n"
   ]
  },
  {
   "cell_type": "markdown",
   "metadata": {},
   "source": [
    "### Feature Correlation to Box Office\n",
    "\n",
    "In order to proof our assumption that the above seven features are related to box office, we use to Pearson correlation coefficient to validate these features. Here is the specific steps:\n",
    "\n",
    "- Generate accumulative values of the variables 100 days from the movie realese date.\n",
    "- Calculate the Pearson correlation coefficient of variables and constants per feature per day.\n",
    "- Show Pearson correlation coefficients day by day on the plot and show the trends"
   ]
  },
  {
   "cell_type": "code",
   "execution_count": 25,
   "metadata": {
    "collapsed": false
   },
   "outputs": [],
   "source": [
    "# load data 100 days before the movie release date\n",
    "youtube = load_client()\n",
    "yearly_data100 = load_100_day_movie_data(trailers, movie_list)"
   ]
  },
  {
   "cell_type": "code",
   "execution_count": 37,
   "metadata": {
    "collapsed": false,
    "scrolled": false
   },
   "outputs": [],
   "source": [
    "youtube = load_client()\n",
    "yearly_data = load_one_day_movie_data(trailers, movie_list)"
   ]
  },
  {
   "cell_type": "code",
   "execution_count": 38,
   "metadata": {
    "collapsed": true
   },
   "outputs": [],
   "source": [
    "from scipy import stats\n",
    "\n",
    "# calculate the Pearson correlation coefficient for five time varying variables\n",
    "def pearsonr_byday(movie_data):\n",
    "    features_correlation = {}\n",
    "    days = len(movie_data[0])\n",
    "    \n",
    "    for feature in range(len(movie_data[0][0][0])):\n",
    "        \n",
    "        correlation_bydate = []\n",
    "        for day in range(days): \n",
    "            \n",
    "            # remove data missing rows\n",
    "            points = \\\n",
    "                zip(*[(i[0], i[1]) for i in zip(np.array(movie_data[0][day])[:, feature].flatten(), movie_data[1]) \\\n",
    "                                                                                             if i[0] <> 0.0])\n",
    "            # calculate the Pearson correlation coefficient \n",
    "            correlation_bydate.append((-(days-day), stats.pearsonr(points[0], points[1])))\n",
    "            \n",
    "        features_correlation[feature] = correlation_bydate\n",
    "    return features_correlation\n",
    "    pass\n",
    "\n",
    "features_correlations = pearsonr_byday(yearly_data100)"
   ]
  },
  {
   "cell_type": "code",
   "execution_count": 39,
   "metadata": {
    "collapsed": false
   },
   "outputs": [],
   "source": [
    "# calculate the Pearson correlation coefficient for two constants\n",
    "theater = zip(*[(i[0], i[1]) for i in zip(np.array(yearly_data[0])[:,-1], yearly_data[1]) if i[0] <> 0.0])\n",
    "theater_corr = stats.pearsonr(theater[0], theater[1])\n",
    "\n",
    "budget = zip(*[(i[0], i[1]) for i in zip(np.array(yearly_data[0])[:,-2], yearly_data[1]) if i[0] <> 0.0])\n",
    "budget_corr = stats.pearsonr(budget[0], budget[1])"
   ]
  },
  {
   "cell_type": "code",
   "execution_count": 40,
   "metadata": {
    "collapsed": false
   },
   "outputs": [
    {
     "name": "stdout",
     "output_type": "stream",
     "text": [
      "views : y=0.000174x+(0.800347)\n",
      "comments : y=0.000903x+(0.836651)\n",
      "likes : y=0.000835x+(0.849351)\n",
      "dislikes : y=0.001120x+(0.536000)\n",
      "ratings : y=0.000828x+(0.847692)\n"
     ]
    },
    {
     "data": {
      "image/png": "[encoded data removed]",
      "text/plain": [
       "<matplotlib.figure.Figure at 0x14e93320>"
      ]
     },
     "metadata": {},
     "output_type": "display_data"
    }
   ],
   "source": [
    "import matplotlib.pyplot as plt\n",
    "from matplotlib.legend_handler import HandlerLine2D\n",
    "\n",
    "colors = ['red','blue','green','cyan','orange','purple','magenta']\n",
    "labels = ['views','comments','likes','dislikes','ratings','theater','budget']\n",
    "\n",
    "plt.figure(figsize=(12,6))\n",
    "lines = []\n",
    "for k, v in features_correlations.iteritems():\n",
    "    x = zip(*v)[0]\n",
    "    y = zip(*zip(*v)[1])[0]\n",
    "    lines.append(plt.plot(x,y, color = colors[k], label = labels[k])[0])\n",
    "\n",
    "    # calc the trendline\n",
    "    z = np.polyfit(x, y, 1)\n",
    "    p = np.poly1d(z)\n",
    "    plt.plot(x,p(x),\"r--\", color = 'black')\n",
    "    # the line equation:\n",
    "    print labels[k], \": y=%.6fx+(%.6f)\"%(z[0],z[1])\n",
    "# draw constants\n",
    "lines.append(plt.plot((0,-100),(theater_corr[0],theater_corr[0]), color = colors[k+1], label = labels[k+1])[0])\n",
    "lines.append(plt.plot((0,-100),(budget_corr[0],budget_corr[0]), color = colors[k+2], label = labels[k+2])[0])\n",
    "# print lines\n",
    "plt.legend(handles= lines,loc =4)\n",
    "plt.show()"
   ]
  },
  {
   "cell_type": "markdown",
   "metadata": {},
   "source": [
    "### Results\n",
    "\n",
    "The above figure shows Pearson correlation coefficient of seven features we selected. The axis x represents t days before the release date, for example -80 means 80 days before the release date. The axis reports the Pearson correlation coefficient of that feature value from 0 to 1. \n",
    "\n",
    "According to the results, all time-varying variables shows increasing correlation to the box office. The correlations of views, comments, likes, and ratings reach 0.85 above couples of days before the release. \n",
    "\n",
    "In addition, the correlations become stable 30 days before the release, which means it is possible to predict a relatively accurate box office one month early basing on youtube trailer data. "
   ]
  },
  {
   "cell_type": "markdown",
   "metadata": {},
   "source": [
    "## Multivariate Linear Model for Box Office Prediction\n",
    "\n",
    "We tried different ways to establish the linear regression model, namely gradient descent and generalized linear regression. \n",
    "\n",
    "### Gradient Descent\n",
    "\n",
    "In this way, we get the initial value of $\\theta_1$ and $\\theta_2$ by solving the matrix at first. Then we use the following gradient descent formular to decrease the loss $\\frac{1}{m}\\Sigma(h_\\theta(x^i) - y^i))^2$. By repeating the gradient descent step, we can get the trained $\\theta_1$ and $\\theta_2$ to make better prediction.\n",
    "\n",
    "$$\\theta_1 := \\theta_1 - \\alpha \\frac{1}{m} \\Sigma(h_\\theta(x^{(i)}) - y^{(i)})) \\times x^{(i)} $$\n",
    "\n",
    "$$\\theta_2 := \\theta_2 - \\alpha \\frac{1}{m} \\Sigma(h_\\theta(x^{(i)}) - y^{(i)})) $$\n",
    "    \n",
    "### Validation\n",
    "Regarding to validation, we believe using precentage error to compare the predict results is more reasonable. For example, the box office of movie A is 24 millions and our prediction is 20 millions (4 millions loss and 16.67% loss); the box office of movie B is 1 million and our prediction is 0.1 million (0.9 million loss and 90% loss). Considering the above example, we think it is more reasonable to use precentage error to evaluate the results. \n"
   ]
  },
  {
   "cell_type": "code",
   "execution_count": 41,
   "metadata": {
    "collapsed": true
   },
   "outputs": [],
   "source": [
    "class linear_model:\n",
    "    def __init__(self, X, y, reg = 1e-4):\n",
    "        # coefficient to decrease the value in matrix\n",
    "        self.e = float(1e6)\n",
    "        self.X = X / self.e\n",
    "        self.y = y / self.e\n",
    "        self.reg = reg\n",
    "        self.theta1 = np.zeros(X.shape[1])\n",
    "        self.theta2 = 0\n",
    "   \n",
    "    def gradient1(self):\n",
    "        \"\"\"\n",
    "        Calculate gradient for theta1\n",
    "\n",
    "        Returns:\n",
    "            g1 (numpy.array): 1D numpy array containing the gradient\n",
    "\n",
    "        \"\"\"\n",
    "        err = np.dot(self.X, self.theta1) + self.theta2 - self.y\n",
    "        g1 = np.mean(err.reshape(len(self.y),1) * self.X, axis = 0)\n",
    "        return g1\n",
    "        pass\n",
    "    \n",
    "    def gradient2(self):\n",
    "        \"\"\"\n",
    "        Calculate gradient for theta2\n",
    "\n",
    "        Returns:\n",
    "            g2 (numpy.array): 1D numpy array containing the gradient\n",
    "\n",
    "        \"\"\"\n",
    "        err = np.dot(self.X, self.theta1) + self.theta2 - self.y\n",
    "        g2 = np.mean(err)\n",
    "        return g2\n",
    "        pass\n",
    "\n",
    "    def get_theta1(self):\n",
    "        \"\"\"\n",
    "        Calculate the initial theta1\n",
    "        \n",
    "        \"\"\"\n",
    "        self.theta1 = np.linalg.solve(self.X.T.dot(self.X-np.mean(self.X, axis = 0)) + self.reg*np.eye(self.X.shape[1])\\\n",
    "                                 ,self.X.T.dot(self.y - np.mean(self.y))) \n",
    "        pass\n",
    "    \n",
    "    def get_theta2(self):\n",
    "        \"\"\"\n",
    "        Calculate the initial theta2\n",
    "        \n",
    "        \"\"\"\n",
    "        self.theta1 = np.mean(self.y) - np.mean(self.X, axis =0).dot(self.theta1.T) - self.reg/float(len(self.y))\n",
    "        pass\n",
    "    \n",
    "    def train(self, niters=100, learning_rate=0.001):\n",
    "        \"\"\" \n",
    "        Train the linear regression with the given parameters. \n",
    "            \n",
    "        Args:\n",
    "            niters (int) : the number of iterations of gradient descent to run\n",
    "            learning_rate (float) : the learning rate (or step size) to use when training\n",
    "        \"\"\"\n",
    "        self.get_theta2()\n",
    "        self.get_theta1()\n",
    "        for i in range(niters):\n",
    "            self.theta2 -= learning_rate*self.gradient2()\n",
    "            self.theta1 -= learning_rate*self.gradient1()\n",
    "#             if i % 1000 == 0:\n",
    "        print \"training round %d, loss: %f\" % (i, self.validation())\n",
    "        pass\n",
    "    \n",
    "    def validation(self):\n",
    "        \"\"\" \n",
    "        Return the objective of current model\n",
    "        \n",
    "        \"\"\"\n",
    "        return np.mean(np.square(np.dot(self.X, self.theta1) + self.theta2 - self.y))\n",
    "        pass\n",
    "    \n",
    "    def predict(self, X):\n",
    "        \"\"\" \n",
    "        Predict the value of value in X. \n",
    "            \n",
    "        Args: \n",
    "            X(array_like) : array of examples, where each row is an example\n",
    "            \n",
    "        Return:\n",
    "            prediction(vector) : 1D numpy array containing predicted values\n",
    "        \"\"\"\n",
    "        return (np.dot(X / self.e, self.theta1) + self.theta2) * self.e\n",
    "        pass"
   ]
  },
  {
   "cell_type": "markdown",
   "metadata": {},
   "source": [
    "When we run the model with training data, we find out that the error increase greatly and reach infinite number soon. We thing the reason why the model does not work with the current training dataset is large number. And the system cannot handle a larget float. In order to solve this problem, we think of two solution: using log or divide by a large number. In this linear regression model, we use a term **e** to solve this problem, the value of **e** is **1e6**"
   ]
  },
  {
   "cell_type": "markdown",
   "metadata": {},
   "source": [
    "### Generalized Linear Regression\n",
    "\n",
    "By following this way, there are no needs to train the data. We can get the best $\\theta$ directly.\n",
    "\n",
    "$$\\theta = (X^T X)^{-1} X^T y$$\n",
    "\n",
    "Comparing to above approach, it is an easier and more standard approach. However, after comparing the results, we found gradient descent approah works better. \n"
   ]
  },
  {
   "cell_type": "code",
   "execution_count": 42,
   "metadata": {
    "collapsed": true
   },
   "outputs": [],
   "source": [
    "class linear_regression:\n",
    "    def __init__(self, X, y):\n",
    "        X1 = np.ones((X.shape[0], X.shape[1] + 1))\n",
    "        X1[:,1:] = X\n",
    "        self.theta = np.linalg.solve(X.T.dot(X), X.T.dot(y))\n",
    "    \n",
    "    def predict(self, X):\n",
    "        \"\"\" \n",
    "        Predict the value of value in X. \n",
    "            \n",
    "        Args: \n",
    "            X(array_like) : array of examples, where each row is an example\n",
    "            \n",
    "        Return:\n",
    "            prediction(vector) : 1D numpy array containing predicted values\n",
    "        \"\"\"\n",
    "        return np.dot(X, self.theta)\n",
    "        pass"
   ]
  },
  {
   "cell_type": "markdown",
   "metadata": {},
   "source": [
    "Here is the result of these two models. The predicted error is in dollars. As you can see the result is pretty the same. The linear regression using gradient descent is little better than the other one"
   ]
  },
  {
   "cell_type": "code",
   "execution_count": 67,
   "metadata": {
    "collapsed": false,
    "scrolled": false
   },
   "outputs": [
    {
     "name": "stdout",
     "output_type": "stream",
     "text": [
      "training round 9999, loss: 757.219678\n",
      "predicted error($):17908646.4585\n",
      "predicted error($):18678506.2634\n"
     ]
    }
   ],
   "source": [
    "x1 = np.array(yearly_data[0])\n",
    "y1 = np.array(yearly_data[1])\n",
    "x1[:,5] = x1[:,5] / float(10)\n",
    "\n",
    "LM = linear_model(x1, y1)\n",
    "LM.train(10000)\n",
    "predicts_1 = LM.predict(x1)\n",
    "print 'predicted error($):' + str(np.mean(np.abs(predicts_1 - y1)))\n",
    "\n",
    "predicts_2 = linear_regression(x1,y1).predict(x1)\n",
    "print 'predicted error($):'+ str(np.mean(np.abs(predicts_2 - y1)))"
   ]
  },
  {
   "cell_type": "markdown",
   "metadata": {},
   "source": [
    "The following diagram shows the distribution of error ratio."
   ]
  },
  {
   "cell_type": "code",
   "execution_count": 68,
   "metadata": {
    "collapsed": true
   },
   "outputs": [],
   "source": [
    "from collections import Counter \n",
    "\n",
    "def show_loss(predicted, box_office, size = 400):\n",
    "    loss = np.sort((abs(predicted - box_office)/box_office)*100)\n",
    "    interval = 10\n",
    "    loss = np.ceil(loss / interval)*10\n",
    "    data = Counter(loss)\n",
    "\n",
    "    plt.figure(figsize=(20,5))\n",
    "    plt.bar(zip(*data.items())[0], zip(*data.items())[1])\n",
    "    plt.xlim([0, size])\n",
    "    plt.xlabel('Loss Precentage')\n",
    "    plt.title('Loss')\n",
    "\n",
    "    plt.show()\n",
    "    \n",
    "    pass"
   ]
  },
  {
   "cell_type": "code",
   "execution_count": 69,
   "metadata": {
    "collapsed": false,
    "scrolled": true
   },
   "outputs": [
    {
     "data": {
      "image/png": "[encoded data removed]",
      "text/plain": [
       "<matplotlib.figure.Figure at 0x1601f3c8>"
      ]
     },
     "metadata": {},
     "output_type": "display_data"
    }
   ],
   "source": [
    "show_loss(predicts_1, y1)"
   ]
  },
  {
   "cell_type": "markdown",
   "metadata": {},
   "source": [
    "From the diagram, we can find that most error stays within 50%. There are some outliers that we find affect the result greatly, we will take two movie as examples:\n",
    "\n",
    "- The Revenant\n",
    "- The Big Short\n",
    "\n",
    "The reason we found is the theater number during the first week:  only 4 theaters has *The Revenant* and only 8 theaters has *The Big Short*. Even though there is a high correlation between the number of theater and box office, these two examples is too extreme that the results are still far away from their acutal values"
   ]
  },
  {
   "cell_type": "markdown",
   "metadata": {},
   "source": [
    "Based on the following plots, we found that the prediction of most movies are pretty close to the actual result for both linear model. "
   ]
  },
  {
   "cell_type": "code",
   "execution_count": 45,
   "metadata": {
    "collapsed": false,
    "scrolled": false
   },
   "outputs": [
    {
     "data": {
      "image/png": "[encoded data removed]",
      "text/plain": [
       "<matplotlib.figure.Figure at 0xe98c080>"
      ]
     },
     "metadata": {},
     "output_type": "display_data"
    }
   ],
   "source": [
    "plt.figure(figsize=(12,6))\n",
    "plt.subplot(1, 2, 1)\n",
    "\n",
    "# plot prediction using linear regression gradient descendent\n",
    "plt.scatter(predicts_1, y1)\n",
    "plt.plot([0,np.max(predicts_1)],[0,np.max(predicts_1)])\n",
    "\n",
    "# plot prediction using linear model\n",
    "plt.subplot(1, 2, 2)\n",
    "plt.scatter(predicts_2, y1)\n",
    "plt.plot([0,np.max(predicts_2)],[0,np.max(predicts_2)])\n",
    "plt.show()"
   ]
  },
  {
   "cell_type": "markdown",
   "metadata": {},
   "source": [
    "## Future Prediction\n",
    "Now, let's make a prediction of one movies of 2016: **Doctor Strange**."
   ]
  },
  {
   "cell_type": "code",
   "execution_count": 46,
   "metadata": {
    "collapsed": false
   },
   "outputs": [],
   "source": [
    "def load_one_movie_data(url, movie_name):\n",
    "    movie_data = retrive_movie_box_office(url, movie_name)\n",
    "\n",
    "    trailer = youtube_search(movie_name, movie_data['release'])\n",
    "\n",
    "    start = movie_data['release']  - datetime.timedelta(days = 30)\n",
    "    movie_stat = youtube_trailer_data(trailer[0]['id'], start, start, 'views,comments,likes,dislikes,ratings')\n",
    "    stats = movie_stat[0][1]\n",
    "    stats.append(movie_data['budget'] / 10)\n",
    "    stats.append(movie_data['theaters'])\n",
    "    return stats, movie_data['boxoffice']\n",
    "\n",
    "stats, boxoffice = load_one_movie_data('/movies/?id=marvel716.htm', 'Doctor Strange')"
   ]
  },
  {
   "cell_type": "code",
   "execution_count": 47,
   "metadata": {
    "collapsed": false
   },
   "outputs": [
    {
     "name": "stdout",
     "output_type": "stream",
     "text": [
      "prediction: 114979632.593\n",
      "actual: 109982169\n",
      "difference: 4997463.59309\n",
      "error rate: 5%\n"
     ]
    }
   ],
   "source": [
    "prediction = LM.predict(np.array([stats]))[0]\n",
    "print 'prediction: ' + str(prediction) # - boxoffice\n",
    "print 'actual: ' + str(boxoffice)\n",
    "print 'difference: ' + str(prediction - boxoffice)\n",
    "print 'error rate: {0:.0f}%'.format((prediction - boxoffice) / boxoffice * float(100))"
   ]
  },
  {
   "cell_type": "markdown",
   "metadata": {},
   "source": [
    "And then we will predict a up-coming movie: **Rogue One: A Star Wars Story**. Since the movie is on show right now, most movie-related data is not available online. We will manually enter the release date and budget.\n",
    "\n",
    "For the number of theaters, we will assume there are 4000 theaters."
   ]
  },
  {
   "cell_type": "code",
   "execution_count": 48,
   "metadata": {
    "collapsed": false
   },
   "outputs": [
    {
     "name": "stdout",
     "output_type": "stream",
     "text": [
      "prediction: 236204665.587\n"
     ]
    }
   ],
   "source": [
    "trailer = youtube_search('Rogue One: A Star Wars Story', datetime.datetime(2016,12,16))\n",
    "\n",
    "start = datetime.datetime(2016,12,16)  - datetime.timedelta(days = 30)\n",
    "\n",
    "movie_stat = youtube_trailer_data(trailer[0]['id'], start, start, 'views,comments,likes,dislikes,ratings')\n",
    "\n",
    "stats = movie_stat[0][1]\n",
    "stats.append(20000000)\n",
    "stats.append(4000)\n",
    "\n",
    "prediction = LM.predict(np.array([stats]))[0]\n",
    "print 'prediction: ' + str(prediction) # - boxoffice"
   ]
  },
  {
   "cell_type": "markdown",
   "metadata": {},
   "source": [
    "## Future Work\n",
    "Right now, there are only seven features. We tried to find more features that might help the model to increase it's accuracy. One feature we think of is the review content and performs a sentiment analysis on these reviews. The reason we choose this feature is because it represents more about how people think about the trailer. By analyzing the comments, it provides a rough rating of the trailer besides the existing statistics. However, the result we found is not as good as what we expected. This part shows our analysis"
   ]
  },
  {
   "cell_type": "markdown",
   "metadata": {},
   "source": [
    "First, let's load the comments from YouTube API."
   ]
  },
  {
   "cell_type": "code",
   "execution_count": 49,
   "metadata": {
    "collapsed": true
   },
   "outputs": [],
   "source": [
    "def youtube_comment(video_id):\n",
    "    comments = []\n",
    "    pageToken = ''\n",
    "    while 1:\n",
    "        results = youtube.commentThreads().list(\n",
    "            part=\"snippet\",\n",
    "            videoId=video_id,\n",
    "            maxResults=100,\n",
    "            pageToken=pageToken,\n",
    "            textFormat=\"plainText\"\n",
    "        ).execute()\n",
    "\n",
    "        for item in results[\"items\"]:\n",
    "            comment = {}\n",
    "            top_level_comment = item[\"snippet\"][\"topLevelComment\"]\n",
    "            comment['text'] = top_level_comment[\"snippet\"][\"textDisplay\"]\n",
    "            comment['published_at'] = top_level_comment[\"snippet\"]['publishedAt']\n",
    "            comment['like'] = top_level_comment[\"snippet\"][\"likeCount\"]\n",
    "            comments.append(comment)\n",
    "        \n",
    "        if 'nextPageToken' not in results:\n",
    "            break\n",
    "        else:\n",
    "            pageToken = results['nextPageToken']\n",
    "    return comments"
   ]
  },
  {
   "cell_type": "code",
   "execution_count": 50,
   "metadata": {
    "collapsed": false,
    "scrolled": false
   },
   "outputs": [],
   "source": [
    "# Fantastic Beasts and Where to Find Them - Teaser Trailer [HD]\n",
    "comments = youtube_comment('ViuDsy7yb8M')"
   ]
  },
  {
   "cell_type": "code",
   "execution_count": 89,
   "metadata": {
    "collapsed": false
   },
   "outputs": [
    {
     "name": "stdout",
     "output_type": "stream",
     "text": [
      "8639\n",
      "[ {'text': u'For an expelled student he is really good at apparating\\ufeff', 'published_at': u'2016-12-11T10:25:44.000Z', 'like': 0}\n",
      " {'text': u'Hate the woman in this movie\\ufeff', 'published_at': u'2016-12-11T06:26:27.000Z', 'like': 0}]\n"
     ]
    }
   ],
   "source": [
    "print len(comments)\n",
    "print np.array(comments)[:2]"
   ]
  },
  {
   "cell_type": "markdown",
   "metadata": {},
   "source": [
    "The library we use to perform sentiment analysis is NLTK. NLTK provides two ways to perform sentimental analysis. Our implementation is based on this webpage:\n",
    "\n",
    "    http://www.nltk.org/howto/sentiment.html\n",
    "    \n",
    "Before running the following code, make sure **twython** is installed\n",
    "\n",
    "    $ pip install twython"
   ]
  },
  {
   "cell_type": "markdown",
   "metadata": {},
   "source": [
    "The first method return a polarity score for each comments. It is a number ranged from -1 to 1. High number means positive and Low number means negative. After getting this number, we normalize this number to 0 to 10 and calculates the means value of these comments. We also calculate a weighted mean value. The weight is how many people like this comments."
   ]
  },
  {
   "cell_type": "code",
   "execution_count": 55,
   "metadata": {
    "collapsed": false,
    "scrolled": true
   },
   "outputs": [],
   "source": [
    "from nltk.sentiment.vader import SentimentIntensityAnalyzer\n",
    "from nltk.sentiment import SentimentAnalyzer\n",
    "from nltk import tokenize\n",
    "\n",
    "scores1 = []\n",
    "\n",
    "sid = SentimentIntensityAnalyzer()\n",
    "for comment in comments:\n",
    "    ss = sid.polarity_scores(comment['text'])\n",
    "    scores1.append(((ss['compound'] + 1) * 5, comment['like']))"
   ]
  },
  {
   "cell_type": "markdown",
   "metadata": {},
   "source": [
    "After calculating the these two mean values, we found out that the comments is kind of neutral"
   ]
  },
  {
   "cell_type": "code",
   "execution_count": 56,
   "metadata": {
    "collapsed": false,
    "scrolled": true
   },
   "outputs": [
    {
     "name": "stdout",
     "output_type": "stream",
     "text": [
      "5.48383933326\n",
      "5.6615147095\n"
     ]
    }
   ],
   "source": [
    "print np.mean([score[0] for score in scores1])\n",
    "total = sum([score[1] for score in scores1])\n",
    "print np.sum([score[0] * score[1] / total for score in scores1])"
   ]
  },
  {
   "cell_type": "markdown",
   "metadata": {},
   "source": [
    "After reviewing several comments, we found out the algorighm is not accurate. For example the following examples show that some comments cannot be interrepted correctly"
   ]
  },
  {
   "cell_type": "code",
   "execution_count": 58,
   "metadata": {
    "collapsed": false
   },
   "outputs": [
    {
     "name": "stdout",
     "output_type": "stream",
     "text": [
      "{'neg': 0.0, 'neu': 1.0, 'pos': 0.0, 'compound': 0.0}\n",
      "{'neg': 0.0, 'neu': 1.0, 'pos': 0.0, 'compound': 0.0}\n"
     ]
    }
   ],
   "source": [
    "print sid.polarity_scores(\"I looooooooove this movie\")\n",
    "print sid.polarity_scores(\"I am dying to watch this movie\")"
   ]
  },
  {
   "cell_type": "markdown",
   "metadata": {},
   "source": [
    "# Reference\n",
    "1. BoxOfficeMojoAPI, https://github.com/earthican/BoxOfficeMojoAPI\n",
    "2. The Numbers, http://www.the-numbers.com\n",
    "3. ChannelMeter, https://channelmeter.com/\n",
    "4. Andrew Ng, Generalized Linear Models, https://datajobs.com/data-science-repo/Generalized-Linear-Models-[Andrew-Ng].pdf\n",
    "5. Gradient Descent for Linear Regression, https://www.coursera.org/learn/machine-learning/lecture/kCvQc/gradient-descent-for-linear-regression\n",
    "6. Sentiment Analysis using NLTK, http://www.nltk.org/howto/sentiment.html\n",
    "7. Early Prediction of Movie Box Office Success Based on Wikipedia Activity Big Data, http://journals.plos.org/plosone/article?id=10.1371/journal.pone.0071226"
   ]
  },
  {
   "cell_type": "code",
   "execution_count": null,
   "metadata": {
    "collapsed": true
   },
   "outputs": [],
   "source": []
  }
 ],
 "metadata": {
  "anaconda-cloud": {},
  "kernelspec": {
   "display_name": "Python [Root]",
   "language": "python",
   "name": "Python [Root]"
  },
  "language_info": {
   "codemirror_mode": {
    "name": "ipython",
    "version": 2
   },
   "file_extension": ".py",
   "mimetype": "text/x-python",
   "name": "python",
   "nbconvert_exporter": "python",
   "pygments_lexer": "ipython2",
   "version": "2.7.12"
  }
 },
 "nbformat": 4,
 "nbformat_minor": 0
}
